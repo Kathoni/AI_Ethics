{
 "cells": [
  {
   "cell_type": "code",
   "execution_count": null,
   "id": "7c44dbd4-e5b9-4dfe-9b5c-4aac266d6a4e",
   "metadata": {},
   "outputs": [],
   "source": []
  }
 ],
 "metadata": {
  "kernelspec": {
   "display_name": "",
   "name": ""
  },
  "language_info": {
   "name": ""
  }
 },
 "nbformat": 4,
 "nbformat_minor": 5
}
